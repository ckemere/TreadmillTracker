{
 "cells": [
  {
   "cell_type": "markdown",
   "metadata": {},
   "source": [
    "# Reward decay functions"
   ]
  },
  {
   "cell_type": "markdown",
   "metadata": {},
   "source": [
    "## Setup"
   ]
  },
  {
   "cell_type": "code",
   "execution_count": 1,
   "metadata": {},
   "outputs": [],
   "source": [
    "import numpy as np\n",
    "import math\n",
    "from scipy.optimize import broyden1\n",
    "import matplotlib.pyplot as plt\n",
    "import warnings"
   ]
  },
  {
   "cell_type": "markdown",
   "metadata": {},
   "source": [
    "## Types of decay\n",
    "There are a couple of ways to implement a decaying reward function.\n",
    "\n",
    "### Power function\n",
    "The easiest implementation, given the current setup, would be to multiply the time to next reward by some constant each iteration:\n",
    "\n",
    "$\n",
    "t_n = \\alpha t_{n-1} = \\alpha^n t_0\n",
    "$\n",
    "\n",
    "where $n = 0, 1, 2, \\ldots$ is the reward number. The updated code would look something like:\n",
    "\n",
    "```\n",
    "if (t > t_delay)\n",
    "    ...\n",
    "    if (PokeState == PostDispense)\n",
    "        t_delay = t + delay\n",
    "        delay = alpha * delay\n",
    "...\n",
    "if (PokeState == Poked) and (not Poked):\n",
    "    ...\n",
    "    delay = 1.0\n",
    "```\n",
    "\n",
    "The cumulative ($R(t)$) and instantaneous ($r(t)$) reward rates for this function are:\n",
    "\n",
    "$\n",
    "t_n = \\alpha t_{n-1} = \\alpha^n t_0 \\quad \\Rightarrow \\quad n = \\dfrac{ln(t) - ln(t_0)}{ln(\\alpha)} \\\\\n",
    "R(n) = n R_0 \\quad \\Rightarrow \\quad R(t) = R_0 \\dfrac{ln(t) - ln(t_0)}{ln(\\alpha)} \\\\\n",
    "r(t) = \\dfrac{dR}{dt} = \\left ( \\dfrac{R_0}{ln(\\alpha)} \\right ) \\left ( \\dfrac{1}{t} \\right )\n",
    "$\n",
    "\n",
    "where $R_0$ is the fixed volume for rewards.\n",
    "\n",
    "### Exponential function\n",
    "While any monotonically decreasing cumulative function can satisfy foraging theory, an exponential function is often justified. An exponentially decaying reward function has the following properties (using analogous terms to the power function):\n",
    "\n",
    "$\n",
    "r(t) = r_0 e^{-\\frac{t}{\\tau}} \\\\\n",
    "R(t) = \\int_0^t r(t')dt' = \\int_0^t r_0 e^{-\\frac{t'}{\\tau}} dt' = r_0 \\tau \\left ( 1 - e^{-\\frac{t}{\\tau}} \\right )\n",
    "$\n",
    "\n",
    "Working backwards to solve for $t$:\n",
    "\n",
    "$\n",
    "R^{-1} = t(R) = -\\tau ln \\left ( 1 - \\dfrac{R}{r_0 \\tau} \\right ) \\quad \\Rightarrow \\quad t_n = -\\tau ln \\left ( 1 - \\dfrac{n R_0}{r_0 \\tau} \\right )\n",
    "$\n",
    "\n",
    "### Comparison between power and exponential decay\n",
    "Let's first shift the power function so that $t_0 = 0$ to align it with the exponential function:\n",
    "\n",
    "$\n",
    "t_n = \\alpha^n t'_0 - t'_0\n",
    "$\n",
    "\n",
    "where $t'_0$ now represents the new constant in the expression. Note that the cumulative and instantaneous reward functions will now include a $t + t'_0$ term where $t$ is above.\n",
    "\n",
    "Let's look at the Taylor series expansions of the two equations for the inter-reward interval:\n",
    "\n",
    "$\n",
    "t_n = \\alpha^n t'_0 - t'_0 \n",
    "= e^{n ln(\\alpha)} t'_0 \n",
    "= t'_0 \\sum_{m=0}^{\\infty} \\dfrac{\\left ( n ln(\\alpha) \\right )^m}{m!}\n",
    "= t'_0 \\left ( 1 + n ln(\\alpha) + \\dfrac{\\left ( n ln(\\alpha) \\right )^2}{2} + \\ldots \\right )\n",
    "\\quad \\text{(power)} \\\\\n",
    "t_n = -\\tau ln \\left ( 1 - \\dfrac{n R_0}{r_0 \\tau} \\right ) \n",
    "= -\\tau \\left ( - \\sum_{m=1}^{\\infty} \\dfrac{\\left ( \\frac{n R_0}{r_0 \\tau} \\right )^m}{m} \\right )\n",
    "= \\tau \\left ( \\dfrac{n R_0}{r_0 \\tau} + \\dfrac{1}{2} \\left ( \\dfrac{n R_0}{r_0 \\tau} \\right )^2 + \\ldots \\right )\n",
    "\\quad \\text{(exponential)}\n",
    "$\n",
    "\n",
    "Looking at the first-order approximation for each function, we arrive at the equation:\n",
    "\n",
    "$\n",
    "\\tau \\left ( \\dfrac{n R_0}{r_0 \\tau} \\right ) = t'_0 \\left ( 1 + n ln(\\alpha) \\right ) - t'_0 \\\\\n",
    "\\Rightarrow \\dfrac{R_0}{r_0} = t'_0 ln(\\alpha) \\\\\n",
    "\\Rightarrow \\alpha = e^{\\frac{R_0}{r_0 t'_0}}\n",
    "$\n",
    "\n",
    "and setting $t'_0$ such that $t_1$ are equal for both functions:\n",
    "\n",
    "$\n",
    "t_1 = \\alpha t'_0 - t'_0 = -\\tau ln \\left ( 1 - \\dfrac{R_0}{r_0 \\tau} \\right )\n",
    "$\n",
    "\n",
    "We want to approximate a power function with parameters $\\{t'_0, \\alpha\\}$ for an exponential function with parameters $\\{\\tau, r_0, R_0\\}$. Since we now have two equations and two unknowns, we can solve for $\\{t'_0, \\alpha\\}$ by substituting for $\\alpha$:\n",
    "\n",
    "$\n",
    "t'_0 \\left ( \\alpha - 1 \\right ) = t'_0 \\left ( e^{\\frac{R_0}{r_0 t'_0}} - 1 \\right ) = -\\tau ln \\left ( 1 - \\dfrac{R_0}{r_0 \\tau} \\right ) \\\\\n",
    "\\Rightarrow t'_0 \\left ( e^{\\frac{R_0}{r_0 t'_0}} - 1 \\right ) + \\tau ln \\left ( 1 - \\dfrac{R_0}{r_0 \\tau} \\right ) = 0\n",
    "$\n",
    "\n",
    "and then plugging this value of $t'_0$ into $\\alpha = e^{\\frac{R_0}{r_0 t'_0}}$. This leads to a first-order approximation of the exponential function with a power function. Unfortunately, if we wish to obtain a better approximation by utilizing the second-order and higher terms, we lose the nice cancellation that occurred in the first equation of the system, leading to a dependence on $n$."
   ]
  },
  {
   "cell_type": "markdown",
   "metadata": {},
   "source": [
    "## Plot decay functions"
   ]
  },
  {
   "cell_type": "code",
   "execution_count": 4,
   "metadata": {},
   "outputs": [],
   "source": [
    "def get_reward_times(method='integral', **kwargs):\n",
    "    \"\"\"\n",
    "    Time of next reward based on exponentially decaying instantaneous reward rate.\n",
    "    \n",
    "    Args:\n",
    "    - tau: decay parameter\n",
    "    - r_0: initial instantaneous reward rate\n",
    "    - R_0: fixed reward size\n",
    "    - t_0: initial time in series function\n",
    "    - alpha: base in series function\n",
    "    - t: current time\n",
    "    - n: reward number\n",
    "    - method:\n",
    "        - 'integral': integrate under decaying reward rate\n",
    "        - 'series': multiply previous interval by constant\n",
    "    \n",
    "    Returns:\n",
    "    - t_reward: time of next reward\n",
    "    \"\"\"\n",
    "    \n",
    "    if method.lower() == 'integral':\n",
    "        return _get_reward_times_from_integral(**kwargs)\n",
    "    elif method.lower() == 'series':\n",
    "        return _get_reward_times_from_series(**kwargs)\n",
    "    else:\n",
    "        raise ValueError('Unknown method \\'%s\\'.' % method)\n",
    "  \n",
    "def _get_reward_times_from_integral(tau=1.0, r_0=1.0, R_0=1.0, t=None, n=None):\n",
    "    if t is not None:\n",
    "        t_reward = np.zeros(t.shape)\n",
    "        idx = (t >= tau*np.log((tau*r_0)/R_0))\n",
    "        t_reward[~idx] = -tau*np.log(np.exp(-t[~idx]/tau) - (R_0/(tau*r_0)))\n",
    "    elif n is not None:\n",
    "        t_reward = np.zeros(n.shape)\n",
    "        idx = (n >= tau*r_0/R_0)\n",
    "        t_reward[~idx] = -tau*np.log(1.0 - (n[~idx]*R_0)/(tau*r_0))\n",
    "    else:\n",
    "        raise ValueError('t or n must be provided.')\n",
    "    \n",
    "    if idx.any():\n",
    "        t_reward[idx] = np.inf\n",
    "        warnings.warn('Time(s) to next reward are infinite.')\n",
    "    \n",
    "    return t_reward\n",
    "\n",
    "def _get_reward_times_from_series(alpha=1.0, t_0=1.0, t=None, n=None):\n",
    "    if t is not None:\n",
    "        return alpha*t\n",
    "    elif n is not None:\n",
    "        return t_0*alpha**n - t_0\n",
    "    \n",
    "def get_series_params(tau, r_0, R_0):\n",
    "    # Solve equation for t_0\n",
    "    F = lambda t_0: t_0*(np.exp(R_0/(r_0*t_0)) - 1.0) + tau*np.log(1.0 - R_0/(tau*r_0))\n",
    "    t_0 = broyden1(F, np.array([1.0]))\n",
    "    \n",
    "    # Plug in to get alpha\n",
    "    alpha = np.exp(R_0/(r_0*t_0))\n",
    "    \n",
    "    return t_0, alpha"
   ]
  },
  {
   "cell_type": "code",
   "execution_count": 14,
   "metadata": {},
   "outputs": [
    {
     "name": "stdout",
     "output_type": "stream",
     "text": [
      "integral: tau = 12.00, r_0 = 1.00, R_0 = 2.00\n",
      "series:   t_0 = 11.30, alpha = 1.19\n"
     ]
    },
    {
     "data": {
      "image/png": "[encoded data removed]",
      "text/plain": [
       "<Figure size 1080x288 with 3 Axes>"
      ]
     },
     "metadata": {
      "needs_background": "light"
     },
     "output_type": "display_data"
    }
   ],
   "source": [
    "# Set parameters\n",
    "tau = 12\n",
    "r_0 = 1.0\n",
    "R_0 = 2\n",
    "t_0, alpha = get_series_params(tau, r_0, R_0)\n",
    " \n",
    "# Set range\n",
    "t = np.linspace(1, tau*np.log((tau*r_0)/R_0), 100)\n",
    "n = np.arange(1, math.ceil(tau*r_0/R_0))\n",
    "\n",
    "fig, ax = plt.subplots(1, 3, figsize=(15, 4))\n",
    "\n",
    "# Plot absolute reward times\n",
    "ax[0].plot(n, get_reward_times(method='integral', tau=tau, r_0=r_0, R_0=R_0, n=n), label='integral')\n",
    "ax[0].plot(n, get_reward_times(method='series', alpha=alpha, t_0=t_0, n=n), label='series')\n",
    "ax[0].set_title('total time vs. reward number')\n",
    "ax[0].legend()\n",
    "\n",
    "# Plot differences in reward times\n",
    "ax[1].plot(n[1:], np.diff(get_reward_times(method='integral', tau=tau, r_0=r_0, R_0=R_0, n=n)), label='integral')\n",
    "ax[1].plot(n[1:], np.diff(get_reward_times(method='series', alpha=alpha, t_0=t_0, n=n)), label='series')\n",
    "ax[1].set_title('inter-reward time vs. reward number')\n",
    "ax[1].legend()\n",
    "\n",
    "# Plot instantaneous reward rate\n",
    "ax[2].plot(t, r_0*np.exp(-t/tau), label='integral')\n",
    "ax[2].plot(t, (R_0/np.log(alpha)*(1.0/(t + t_0))), label='series')\n",
    "ax[2].set_title('instantaneous reward rate')\n",
    "ax[2].legend()\n",
    "\n",
    "# Print parameters\n",
    "print('integral: tau = %.2f, r_0 = %.2f, R_0 = %.2f' % (tau, r_0, R_0))\n",
    "print('series:   t_0 = %.2f, alpha = %.2f' % (t_0, alpha))"
   ]
  },
  {
   "cell_type": "markdown",
   "metadata": {},
   "source": [
    "Not a bad approximation for an automated approach. However, note that $\\alpha$ is still a bit too small to capture fully the drop-off in the exponential function."
   ]
  },
  {
   "cell_type": "code",
   "execution_count": null,
   "metadata": {},
   "outputs": [],
   "source": []
  }
 ],
 "metadata": {
  "kernelspec": {
   "display_name": "Python 3",
   "language": "python",
   "name": "python3"
  },
  "language_info": {
   "codemirror_mode": {
    "name": "ipython",
    "version": 3
   },
   "file_extension": ".py",
   "mimetype": "text/x-python",
   "name": "python",
   "nbconvert_exporter": "python",
   "pygments_lexer": "ipython3",
   "version": "3.7.3"
  }
 },
 "nbformat": 4,
 "nbformat_minor": 2
}
